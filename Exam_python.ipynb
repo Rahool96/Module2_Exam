{
 "cells": [
  {
   "cell_type": "markdown",
   "id": "1d858f3a",
   "metadata": {},
   "source": [
    "# .1) Convert given hrs & mins in second "
   ]
  },
  {
   "cell_type": "code",
   "execution_count": 20,
   "id": "257c6a4b",
   "metadata": {},
   "outputs": [
    {
     "name": "stdout",
     "output_type": "stream",
     "text": [
      "Enter number of hours: 1\n",
      "Enter number of minutes: 30\n",
      "Total number of seconds for  1 hours and  30 minutes is 5400\n"
     ]
    }
   ],
   "source": [
    "hours=int(input(\"Enter number of hours: \"))\n",
    "minutes=int(input(\"Enter number of minutes: \"))\n",
    "sec=(hours*3600)+(minutes*60)\n",
    "print(\"Total number of seconds for \",hours,\"hours and \",minutes,\"minutes is\",sec)"
   ]
  },
  {
   "cell_type": "markdown",
   "id": "db696c65",
   "metadata": {},
   "source": [
    "# Q.9) Accept String & print only alternate characters on a string.\n",
    "Ex: this i s a _ test\n"
   ]
  },
  {
   "cell_type": "code",
   "execution_count": 15,
   "id": "070aa316",
   "metadata": {},
   "outputs": [
    {
     "name": "stdout",
     "output_type": "stream",
     "text": [
      "Enter a string:this is a test\n",
      "hsi  et\n"
     ]
    }
   ],
   "source": [
    "n=input(\"Enter a string:\")\n",
    "print(n[1::2])\n",
    "        "
   ]
  },
  {
   "cell_type": "markdown",
   "id": "cfcd45f3",
   "metadata": {},
   "source": [
    "# Q.5}Create a class"
   ]
  },
  {
   "cell_type": "code",
   "execution_count": 13,
   "id": "c2d5eec0",
   "metadata": {},
   "outputs": [],
   "source": [
    "class Math:\n",
    "    def __init__(self,a,b):\n",
    "        self.a=a\n",
    "        self.b=b\n",
    "    def Add(self):\n",
    "        return self.a+self.b\n",
    "    def Sub(self):\n",
    "        return self.a-self.b\n",
    "    def Mul(self):\n",
    "        return self.a*self.b\n",
    "    def Div(self):\n",
    "        return self.a/self.b\n",
    "        "
   ]
  },
  {
   "cell_type": "code",
   "execution_count": 14,
   "id": "6c8e2052",
   "metadata": {},
   "outputs": [],
   "source": [
    "x=Math(10,5)"
   ]
  },
  {
   "cell_type": "code",
   "execution_count": 18,
   "id": "ed7ed865",
   "metadata": {},
   "outputs": [
    {
     "name": "stdout",
     "output_type": "stream",
     "text": [
      "15\n",
      "5\n",
      "50\n",
      "2.0\n"
     ]
    }
   ],
   "source": [
    "print(x.Add())\n",
    "print(x.Sub())\n",
    "print(x.Mul())\n",
    "print(x.Div())"
   ]
  },
  {
   "cell_type": "code",
   "execution_count": 26,
   "id": "ef201578",
   "metadata": {},
   "outputs": [
    {
     "name": "stdout",
     "output_type": "stream",
     "text": [
      "1 \n",
      "3 3 \n",
      "5 5 5 \n",
      "6 6 6 6 \n",
      "7 7 7 7 7 \n"
     ]
    }
   ],
   "source": [
    "#Q8}\n",
    "row=5\n",
    "a=1\n",
    "for i in range(1,row+1):\n",
    "    for j in range(1,i+1):\n",
    "        print(a,end=\" \")\n",
    "    if (i==1 or i==2):\n",
    "        a+=2\n",
    "    else:\n",
    "        a+=1\n",
    "    print()"
   ]
  },
  {
   "cell_type": "markdown",
   "id": "b3c62c0d",
   "metadata": {},
   "source": [
    "# Q.10}Create menu driven code for"
   ]
  },
  {
   "cell_type": "code",
   "execution_count": 21,
   "id": "3b750780",
   "metadata": {},
   "outputs": [
    {
     "name": "stdout",
     "output_type": "stream",
     "text": [
      "Enter first number: 10\n",
      "Enter second number: 12\n",
      "Enter tour choise:\n",
      "1)Add\n",
      "2)Substract\n",
      "3)Multiply\n",
      "4)Divide\n",
      "3\n",
      "Multiplication of numbers is 120\n"
     ]
    }
   ],
   "source": [
    "num1=int(input(\"Enter first number: \"))\n",
    "num2=int(input(\"Enter second number: \"))\n",
    "ch=int(input(\"Enter tour choise:\\n1)Add\\n2)Substract\\n3)Multiply\\n4)Divide\\n\"))\n",
    "result=0\n",
    "if ch==1:\n",
    "    result=num1+num2\n",
    "    print(\"Addition of numbers is\",result)\n",
    "elif ch==2:\n",
    "    result=num1-num2\n",
    "    print(\"Substraction of numbers is\",result)\n",
    "elif ch==3:\n",
    "    result=num1*num2\n",
    "    print(\"Multiplication of numbers is\",result)\n",
    "elif ch==4:\n",
    "    result=num1/num2\n",
    "    print(\"Division of numbers is\",result)\n",
    "else:\n",
    "    print(\"Invalid input\")"
   ]
  },
  {
   "cell_type": "markdown",
   "id": "444d161e",
   "metadata": {},
   "source": [
    "# Q.6) Read file & count numbers of digit alphabets & symbols\n"
   ]
  },
  {
   "cell_type": "code",
   "execution_count": 22,
   "id": "82faf692",
   "metadata": {
    "scrolled": true
   },
   "outputs": [
    {
     "name": "stdout",
     "output_type": "stream",
     "text": [
      "Enter a string: R@hool96\n",
      "letters= 5\n",
      "Digits= 2\n",
      "Symbols= 1\n"
     ]
    }
   ],
   "source": [
    "string=input(\"Enter a string: \")\n",
    "digit=letters=symbols=0\n",
    "for i in string:\n",
    "    if i.isnumeric():\n",
    "        digit+=1\n",
    "    elif i.isalpha():\n",
    "        letters+=1\n",
    "    else:\n",
    "        symbols+=1\n",
    "print(\"letters=\",letters)\n",
    "print(\"Digits=\",digit)\n",
    "print(\"Symbols=\",symbols)"
   ]
  },
  {
   "cell_type": "code",
   "execution_count": 19,
   "id": "fe898b2b",
   "metadata": {},
   "outputs": [
    {
     "name": "stdout",
     "output_type": "stream",
     "text": [
      "1 \n",
      "1 0 \n",
      "1 0 1 \n",
      "1 0 1 0 \n",
      "1 0 1 0 1 \n"
     ]
    }
   ],
   "source": [
    "#Q3}\n",
    "for i in range (1,6):\n",
    "    for j in range(1,i+1):\n",
    "        print(j%2,end=\" \")\n",
    "    print()"
   ]
  }
 ],
 "metadata": {
  "kernelspec": {
   "display_name": "Python 3 (ipykernel)",
   "language": "python",
   "name": "python3"
  },
  "language_info": {
   "codemirror_mode": {
    "name": "ipython",
    "version": 3
   },
   "file_extension": ".py",
   "mimetype": "text/x-python",
   "name": "python",
   "nbconvert_exporter": "python",
   "pygments_lexer": "ipython3",
   "version": "3.9.7"
  }
 },
 "nbformat": 4,
 "nbformat_minor": 5
}
